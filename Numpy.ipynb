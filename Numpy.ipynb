{
 "cells": [
  {
   "cell_type": "code",
   "execution_count": 1,
   "id": "fba88867-831d-493c-a96e-a932c4fff42e",
   "metadata": {},
   "outputs": [],
   "source": [
    "import numpy as np"
   ]
  },
  {
   "cell_type": "code",
   "execution_count": 18,
   "id": "e0c35795-b82d-4336-ae46-c4ff1d6537c8",
   "metadata": {},
   "outputs": [],
   "source": [
    "l=[1,2,3,4]"
   ]
  },
  {
   "cell_type": "code",
   "execution_count": 19,
   "id": "d826907f-ba19-49f8-90a3-041b8b6c28ed",
   "metadata": {},
   "outputs": [],
   "source": [
    "a=np.array(l)"
   ]
  },
  {
   "cell_type": "code",
   "execution_count": 20,
   "id": "2ca5d78d-2807-4399-92fe-163bac633630",
   "metadata": {},
   "outputs": [
    {
     "data": {
      "text/plain": [
       "numpy.ndarray"
      ]
     },
     "execution_count": 20,
     "metadata": {},
     "output_type": "execute_result"
    }
   ],
   "source": [
    "type(a)"
   ]
  },
  {
   "cell_type": "code",
   "execution_count": 22,
   "id": "2fc6c2de-ae7e-4e4a-be20-799acbab38b5",
   "metadata": {},
   "outputs": [
    {
     "data": {
      "text/plain": [
       "array([1, 2, 3, 4])"
      ]
     },
     "execution_count": 22,
     "metadata": {},
     "output_type": "execute_result"
    }
   ],
   "source": [
    "np.asanyarray(l)"
   ]
  },
  {
   "cell_type": "code",
   "execution_count": 8,
   "id": "6c065772-88c8-4133-aef8-baf4b096d71a",
   "metadata": {},
   "outputs": [],
   "source": [
    "b=np.array([[1,2],[3,4]])"
   ]
  },
  {
   "cell_type": "code",
   "execution_count": 9,
   "id": "1134a420-c867-408d-bd6d-9c7b9ad22f8b",
   "metadata": {},
   "outputs": [
    {
     "data": {
      "text/plain": [
       "numpy.ndarray"
      ]
     },
     "execution_count": 9,
     "metadata": {},
     "output_type": "execute_result"
    }
   ],
   "source": [
    "type(b)"
   ]
  },
  {
   "cell_type": "code",
   "execution_count": 10,
   "id": "617ca2cd-16ec-4358-a4d8-4cc7d6677adb",
   "metadata": {},
   "outputs": [
    {
     "data": {
      "text/plain": [
       "array([[1, 2],\n",
       "       [3, 4]])"
      ]
     },
     "execution_count": 10,
     "metadata": {},
     "output_type": "execute_result"
    }
   ],
   "source": [
    "np.asanyarray(b)"
   ]
  },
  {
   "cell_type": "code",
   "execution_count": 11,
   "id": "780cfa4c-6fc2-4106-a46b-501fde1c3b6d",
   "metadata": {},
   "outputs": [
    {
     "data": {
      "text/plain": [
       "array([[1, 2],\n",
       "       [3, 4]])"
      ]
     },
     "execution_count": 11,
     "metadata": {},
     "output_type": "execute_result"
    }
   ],
   "source": [
    "np.asarray(b)"
   ]
  },
  {
   "cell_type": "code",
   "execution_count": 15,
   "id": "8c5bddfc-5c7e-4fe4-bc2d-0dd22f06e415",
   "metadata": {},
   "outputs": [
    {
     "data": {
      "text/plain": [
       "array([[1, 2],\n",
       "       [3, 4]])"
      ]
     },
     "execution_count": 15,
     "metadata": {},
     "output_type": "execute_result"
    }
   ],
   "source": [
    "np.array(b)"
   ]
  },
  {
   "cell_type": "code",
   "execution_count": null,
   "id": "eb3e1b7a-769a-4fd3-88af-d1a9b12ed6ad",
   "metadata": {},
   "outputs": [],
   "source": [
    "# array super class and matrix subset of array and subclaas"
   ]
  },
  {
   "cell_type": "code",
   "execution_count": null,
   "id": "7b329902-62b6-445f-9a6f-c9028c081ec3",
   "metadata": {},
   "outputs": [],
   "source": [
    "#matrix by default two deminisional"
   ]
  },
  {
   "cell_type": "code",
   "execution_count": 12,
   "id": "c40c5f27-63a7-4b59-a8c7-ded16c2b00fc",
   "metadata": {},
   "outputs": [],
   "source": [
    "c=np.matrix(l)"
   ]
  },
  {
   "cell_type": "code",
   "execution_count": 13,
   "id": "2c474567-70b1-4acb-9c4e-4a60c7b697be",
   "metadata": {},
   "outputs": [
    {
     "data": {
      "text/plain": [
       "matrix([[1, 2, 3, 4]])"
      ]
     },
     "execution_count": 13,
     "metadata": {},
     "output_type": "execute_result"
    }
   ],
   "source": [
    "c"
   ]
  },
  {
   "cell_type": "code",
   "execution_count": 14,
   "id": "50faeabf-cd79-448e-9ad8-436b41060a23",
   "metadata": {},
   "outputs": [
    {
     "data": {
      "text/plain": [
       "numpy.matrix"
      ]
     },
     "execution_count": 14,
     "metadata": {},
     "output_type": "execute_result"
    }
   ],
   "source": [
    "type(c)"
   ]
  },
  {
   "cell_type": "code",
   "execution_count": 30,
   "id": "0aa2af0d-e0e6-49b6-8542-3d602e7151d7",
   "metadata": {},
   "outputs": [],
   "source": [
    "# solo copy use  and reference change as location "
   ]
  },
  {
   "cell_type": "code",
   "execution_count": 31,
   "id": "360d0309-5ab3-4d95-b010-3fefd2fdf0c7",
   "metadata": {},
   "outputs": [],
   "source": [
    "a=np.array(l)"
   ]
  },
  {
   "cell_type": "code",
   "execution_count": 32,
   "id": "341b8570-11ae-4ee1-9e46-cb16c1a6fb8f",
   "metadata": {},
   "outputs": [
    {
     "data": {
      "text/plain": [
       "array([1, 2, 3, 4])"
      ]
     },
     "execution_count": 32,
     "metadata": {},
     "output_type": "execute_result"
    }
   ],
   "source": [
    "a"
   ]
  },
  {
   "cell_type": "code",
   "execution_count": 33,
   "id": "50d4b94b-25fe-4e2e-9c4e-e90345bf86b8",
   "metadata": {},
   "outputs": [],
   "source": [
    "c=a"
   ]
  },
  {
   "cell_type": "code",
   "execution_count": 34,
   "id": "53df5604-863c-407f-967f-eddb51dc7896",
   "metadata": {},
   "outputs": [
    {
     "data": {
      "text/plain": [
       "1"
      ]
     },
     "execution_count": 34,
     "metadata": {},
     "output_type": "execute_result"
    }
   ],
   "source": [
    "c[0]"
   ]
  },
  {
   "cell_type": "code",
   "execution_count": 35,
   "id": "823676c8-24a1-4a02-a216-366488d05b34",
   "metadata": {},
   "outputs": [],
   "source": [
    "c[0]=100"
   ]
  },
  {
   "cell_type": "code",
   "execution_count": 36,
   "id": "458705d1-dfdb-4141-9d17-a40c3876824a",
   "metadata": {},
   "outputs": [
    {
     "data": {
      "text/plain": [
       "array([100,   2,   3,   4])"
      ]
     },
     "execution_count": 36,
     "metadata": {},
     "output_type": "execute_result"
    }
   ],
   "source": [
    "c"
   ]
  },
  {
   "cell_type": "code",
   "execution_count": 29,
   "id": "5495a231-0319-4c1f-8692-be577f81cd80",
   "metadata": {},
   "outputs": [
    {
     "data": {
      "text/plain": [
       "array([100,   2,   3,   4])"
      ]
     },
     "execution_count": 29,
     "metadata": {},
     "output_type": "execute_result"
    }
   ],
   "source": [
    "a"
   ]
  },
  {
   "cell_type": "code",
   "execution_count": 53,
   "id": "130e5634-2e08-4fbf-9651-1607fcef4c63",
   "metadata": {},
   "outputs": [],
   "source": [
    "# dep copy"
   ]
  },
  {
   "cell_type": "code",
   "execution_count": 54,
   "id": "ad4b556b-5dd3-462f-a952-e6789619b2e7",
   "metadata": {},
   "outputs": [],
   "source": [
    "d=np.copy(a)"
   ]
  },
  {
   "cell_type": "code",
   "execution_count": 55,
   "id": "da1bfed3-6ba5-474a-9b31-1653aa31e2b1",
   "metadata": {},
   "outputs": [
    {
     "data": {
      "text/plain": [
       "array([100,   2,   3,   4])"
      ]
     },
     "execution_count": 55,
     "metadata": {},
     "output_type": "execute_result"
    }
   ],
   "source": [
    "d"
   ]
  },
  {
   "cell_type": "code",
   "execution_count": 61,
   "id": "d3788be6-5fcd-44cb-a5e7-c05038896c91",
   "metadata": {},
   "outputs": [
    {
     "data": {
      "text/plain": [
       "array([100,   2,   3,   4])"
      ]
     },
     "execution_count": 61,
     "metadata": {},
     "output_type": "execute_result"
    }
   ],
   "source": [
    "a"
   ]
  },
  {
   "cell_type": "code",
   "execution_count": 62,
   "id": "cee9907e-e8c4-4979-b001-af9f44f76466",
   "metadata": {},
   "outputs": [
    {
     "data": {
      "text/plain": [
       "200"
      ]
     },
     "execution_count": 62,
     "metadata": {},
     "output_type": "execute_result"
    }
   ],
   "source": [
    "d[2]"
   ]
  },
  {
   "cell_type": "code",
   "execution_count": 63,
   "id": "3de64cbb-04ae-4574-9414-439ed4be6fad",
   "metadata": {},
   "outputs": [],
   "source": [
    "d[2]=200"
   ]
  },
  {
   "cell_type": "code",
   "execution_count": 64,
   "id": "881aa209-5912-4f2f-b9b7-a6f48c54f5d4",
   "metadata": {},
   "outputs": [
    {
     "data": {
      "text/plain": [
       "array([100,   2, 200,   4])"
      ]
     },
     "execution_count": 64,
     "metadata": {},
     "output_type": "execute_result"
    }
   ],
   "source": [
    "d"
   ]
  },
  {
   "cell_type": "code",
   "execution_count": 66,
   "id": "94897ed8-8f66-461e-ba55-2378d67c1c55",
   "metadata": {},
   "outputs": [
    {
     "data": {
      "text/plain": [
       "array([[ True, False, False],\n",
       "       [False,  True, False],\n",
       "       [False, False,  True]])"
      ]
     },
     "execution_count": 66,
     "metadata": {},
     "output_type": "execute_result"
    }
   ],
   "source": [
    "np.fromfunction(lambda i,j :i==j,(3,3))"
   ]
  },
  {
   "cell_type": "code",
   "execution_count": 70,
   "id": "b2181b02-e0a4-43e8-a3a0-38c2316693b9",
   "metadata": {},
   "outputs": [
    {
     "data": {
      "text/plain": [
       "array([[0., 0., 0.],\n",
       "       [0., 1., 2.],\n",
       "       [0., 2., 4.]])"
      ]
     },
     "execution_count": 70,
     "metadata": {},
     "output_type": "execute_result"
    }
   ],
   "source": [
    "np.fromfunction(lambda i,j :i*j,(3,3))"
   ]
  },
  {
   "cell_type": "code",
   "execution_count": 74,
   "id": "bae908e2-0a97-4ba2-8e86-50505c2fdbcb",
   "metadata": {},
   "outputs": [],
   "source": [
    "iterable=(i*i for i in range(5))"
   ]
  },
  {
   "cell_type": "code",
   "execution_count": 75,
   "id": "98d3b508-9bac-4e73-883d-b15a94532939",
   "metadata": {},
   "outputs": [
    {
     "data": {
      "text/plain": [
       "array([ 0.,  1.,  4.,  9., 16.])"
      ]
     },
     "execution_count": 75,
     "metadata": {},
     "output_type": "execute_result"
    }
   ],
   "source": [
    "np.fromiter(iterable,float)"
   ]
  },
  {
   "cell_type": "code",
   "execution_count": 79,
   "id": "b3efe217-a6f4-437a-ab21-b158d8e5907f",
   "metadata": {},
   "outputs": [
    {
     "data": {
      "text/plain": [
       "array([323., 323.,   2.])"
      ]
     },
     "execution_count": 79,
     "metadata": {},
     "output_type": "execute_result"
    }
   ],
   "source": [
    "np.fromstring('323 323 2',sep=' ')"
   ]
  },
  {
   "cell_type": "code",
   "execution_count": 81,
   "id": "8f20dc27-fc6a-4fdc-800f-777737fad8be",
   "metadata": {},
   "outputs": [
    {
     "data": {
      "text/plain": [
       "array([4., 3.])"
      ]
     },
     "execution_count": 81,
     "metadata": {},
     "output_type": "execute_result"
    }
   ],
   "source": [
    "np.fromstring('4,3',sep=\",\")"
   ]
  },
  {
   "cell_type": "code",
   "execution_count": 82,
   "id": "a84996af-324d-4d40-9a14-afdd19d001c5",
   "metadata": {},
   "outputs": [],
   "source": [
    "#numpy data types"
   ]
  },
  {
   "cell_type": "code",
   "execution_count": 83,
   "id": "2e67ae87-bd9d-41ca-a10d-2c62c90c550b",
   "metadata": {},
   "outputs": [],
   "source": [
    "l=[1,3,4,5,6]"
   ]
  },
  {
   "cell_type": "code",
   "execution_count": 84,
   "id": "6e5a8856-b1b3-42f2-b3ca-ba5ac19671cc",
   "metadata": {},
   "outputs": [],
   "source": [
    "ar=np.array(l)"
   ]
  },
  {
   "cell_type": "code",
   "execution_count": 85,
   "id": "fb7608ca-d152-41ea-8ab9-922e484342c8",
   "metadata": {},
   "outputs": [
    {
     "data": {
      "text/plain": [
       "numpy.ndarray"
      ]
     },
     "execution_count": 85,
     "metadata": {},
     "output_type": "execute_result"
    }
   ],
   "source": [
    "type(ar)"
   ]
  },
  {
   "cell_type": "code",
   "execution_count": null,
   "id": "4ace9d22-fc7a-49c6-8033-a90e272a72dd",
   "metadata": {},
   "outputs": [],
   "source": [
    "ar.ndim"
   ]
  }
 ],
 "metadata": {
  "kernelspec": {
   "display_name": "Python 3 (ipykernel)",
   "language": "python",
   "name": "python3"
  },
  "language_info": {
   "codemirror_mode": {
    "name": "ipython",
    "version": 3
   },
   "file_extension": ".py",
   "mimetype": "text/x-python",
   "name": "python",
   "nbconvert_exporter": "python",
   "pygments_lexer": "ipython3",
   "version": "3.10.8"
  }
 },
 "nbformat": 4,
 "nbformat_minor": 5
}
